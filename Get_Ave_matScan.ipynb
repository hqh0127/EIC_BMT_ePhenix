{
 "cells": [
  {
   "cell_type": "code",
   "execution_count": 4,
   "metadata": {},
   "outputs": [],
   "source": [
    "import re\n",
    "import numpy as np\n",
    "\n",
    "fo = open(\"matscan_ave_theta.dat\", \"w\")\n",
    "with open('pipe_only.log','r') as f:\n",
    "    for line in f:\n",
    "        z = re.search(r\"ave. for theta =\", line)\n",
    "        if z:\n",
    "            for k in [line.split()[i] for i in (4,6,7,8)]:\n",
    "                fo.write(k+\" \")\n",
    "            fo.write('\\n')\n",
    "fo.close()"
   ]
  },
  {
   "cell_type": "code",
   "execution_count": null,
   "metadata": {},
   "outputs": [],
   "source": []
  }
 ],
 "metadata": {
  "kernelspec": {
   "display_name": "Python 3",
   "language": "python",
   "name": "python3"
  },
  "language_info": {
   "codemirror_mode": {
    "name": "ipython",
    "version": 3
   },
   "file_extension": ".py",
   "mimetype": "text/x-python",
   "name": "python",
   "nbconvert_exporter": "python",
   "pygments_lexer": "ipython3",
   "version": "3.7.4"
  }
 },
 "nbformat": 4,
 "nbformat_minor": 2
}
